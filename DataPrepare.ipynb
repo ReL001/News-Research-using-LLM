{
 "cells": [
  {
   "cell_type": "code",
   "execution_count": 1,
   "id": "6438a58c-52c9-4c02-b40d-481153e95e4e",
   "metadata": {},
   "outputs": [],
   "source": [
    "from langchain.document_loaders import TextLoader"
   ]
  },
  {
   "cell_type": "code",
   "execution_count": 2,
   "id": "e0841daa",
   "metadata": {},
   "outputs": [],
   "source": [
    "stock_name = input(\"Enter the stock name: \")"
   ]
  },
  {
   "cell_type": "code",
   "execution_count": 3,
   "id": "765d16ef",
   "metadata": {},
   "outputs": [
    {
     "name": "stdout",
     "output_type": "stream",
     "text": [
      "Requirement already satisfied: newsapi-python in c:\\users\\omkar\\appdata\\local\\packages\\pythonsoftwarefoundation.python.3.11_qbz5n2kfra8p0\\localcache\\local-packages\\python311\\site-packages (0.2.7)\n",
      "Requirement already satisfied: requests<3.0.0 in c:\\users\\omkar\\appdata\\local\\packages\\pythonsoftwarefoundation.python.3.11_qbz5n2kfra8p0\\localcache\\local-packages\\python311\\site-packages (from newsapi-python) (2.32.3)\n",
      "Requirement already satisfied: charset-normalizer<4,>=2 in c:\\users\\omkar\\appdata\\local\\packages\\pythonsoftwarefoundation.python.3.11_qbz5n2kfra8p0\\localcache\\local-packages\\python311\\site-packages (from requests<3.0.0->newsapi-python) (3.3.2)\n",
      "Requirement already satisfied: idna<4,>=2.5 in c:\\users\\omkar\\appdata\\local\\packages\\pythonsoftwarefoundation.python.3.11_qbz5n2kfra8p0\\localcache\\local-packages\\python311\\site-packages (from requests<3.0.0->newsapi-python) (3.7)\n",
      "Requirement already satisfied: urllib3<3,>=1.21.1 in c:\\users\\omkar\\appdata\\local\\packages\\pythonsoftwarefoundation.python.3.11_qbz5n2kfra8p0\\localcache\\local-packages\\python311\\site-packages (from requests<3.0.0->newsapi-python) (2.2.1)\n",
      "Requirement already satisfied: certifi>=2017.4.17 in c:\\users\\omkar\\appdata\\local\\packages\\pythonsoftwarefoundation.python.3.11_qbz5n2kfra8p0\\localcache\\local-packages\\python311\\site-packages (from requests<3.0.0->newsapi-python) (2024.6.2)\n",
      "Note: you may need to restart the kernel to use updated packages.\n"
     ]
    }
   ],
   "source": [
    "pip install newsapi-python"
   ]
  },
  {
   "cell_type": "code",
   "execution_count": 4,
   "id": "ff0e8f1c",
   "metadata": {},
   "outputs": [
    {
     "name": "stdout",
     "output_type": "stream",
     "text": [
      "Requirement already satisfied: python-dotenv in c:\\users\\omkar\\appdata\\local\\packages\\pythonsoftwarefoundation.python.3.11_qbz5n2kfra8p0\\localcache\\local-packages\\python311\\site-packages (1.0.1)\n",
      "Note: you may need to restart the kernel to use updated packages.\n"
     ]
    }
   ],
   "source": [
    "pip install python-dotenv"
   ]
  },
  {
   "cell_type": "code",
   "execution_count": 5,
   "id": "863d1ae7",
   "metadata": {},
   "outputs": [
    {
     "name": "stdout",
     "output_type": "stream",
     "text": [
      "{'status': 'ok', 'totalResults': 39, 'articles': [{'source': {'id': 'the-verge', 'name': 'The Verge'}, 'author': 'Andrew J. Hawkins', 'title': 'Tesla’s $50 billion question comes down to the wire', 'description': 'Tesla’s annual shareholder vote will be a referendum on Elon Musk’s tumultuous leadership, with investors asked to approved his massive $50 billion pay package again. What they decide may determine the future of the company.', 'url': 'https://www.theverge.com/2024/6/12/24177128/tesla-elon-musk-pay-package-shareholder-vote', 'urlToImage': 'https://cdn.vox-cdn.com/thumbor/ziDoEoQGk8yzMiqcVboqC9h4Ds4=/0x0:2040x1360/1200x628/filters:focal(1020x680:1021x681)/cdn.vox-cdn.com/uploads/chorus_asset/file/24083661/STK171_L_Allen_Musk_01.jpg', 'publishedAt': '2024-06-12T18:51:08Z', 'content': 'Teslas $50 billion question comes down to the wire\\r\\nTeslas $50 billion question comes down to the wire\\r\\n / The companys shareholders will vote on whether to approve Musks giant compensation package f… [+7370 chars]'}, {'source': {'id': 'bbc-news', 'name': 'BBC News'}, 'author': 'Natalie Sherman', 'title': \"Tesla pay fight tests power of Elon Musk's mystique\", 'description': 'Elon Musk wants the biggest pay package in history, but will investors back the $50bn deal?', 'url': 'https://www.bbc.co.uk/news/articles/crggk5rvqd1o', 'urlToImage': 'https://ichef.bbci.co.uk/news/1024/branded_news/9a51/live/d5826dd0-280f-11ef-9c0d-75e67bf8294a.jpg', 'publishedAt': '2024-06-12T08:05:43Z', 'content': \"If this was back in 2018, I would have voted yes, but today, after everything that has happened, I voted no, says investor Ven Kolli, an IT consultant from Colorado, who owns one of the company's car… [+1220 chars]\"}, {'source': {'id': 'the-verge', 'name': 'The Verge'}, 'author': 'Emma Roth', 'title': 'Elon Musk drops lawsuit against OpenAI', 'description': 'Elon Musk was suing ChatGPT maker OpenAI and its CEO, Sam Altman, for a breach of contract, but now the lawsuit has been dropped.', 'url': 'https://www.theverge.com/2024/6/11/24176462/elon-musk-openai-lawsuit-sam-altman-dropped', 'urlToImage': 'https://cdn.vox-cdn.com/thumbor/qhhAPf5iS_vHpweTtvPiRoNc2hg=/0x0:2040x1360/1200x628/filters:focal(1020x680:1021x681)/cdn.vox-cdn.com/uploads/chorus_asset/file/23906796/VRG_Illo_STK022_K_Radtke_Musk_Scales_2.jpg', 'publishedAt': '2024-06-11T21:29:42Z', 'content': 'Elon Musk drops lawsuit against OpenAI\\r\\nElon Musk drops lawsuit against OpenAI\\r\\n / Elon Musk, a co-founder of OpenAI, has dropped his breach of contract lawsuit against the company. \\r\\nByEmma Roth, a … [+1737 chars]'}, {'source': {'id': 'the-verge', 'name': 'The Verge'}, 'author': 'Andrew J. Hawkins', 'title': 'GM pumps $850 million in Cruise to keep struggling robotaxi company afloat', 'description': 'GM is investing $850 million into Cruise to help the struggling robotaxi company cover its operational costs. The company shut down operations after a pedestrian was struck by a driverless car.', 'url': 'https://www.theverge.com/2024/6/11/24176206/gm-cruise-invest-850-million-operational-cost-houston', 'urlToImage': 'https://cdn.vox-cdn.com/thumbor/jgVatyJ7WfskT-_8zDwpDAOH7p0=/0x0:3840x2160/1200x628/filters:focal(1920x1080:1921x1081)/cdn.vox-cdn.com/uploads/chorus_asset/file/25486758/Cruise_Houston.jpg', 'publishedAt': '2024-06-11T17:36:57Z', 'content': 'GM pumps $850 million in Cruise to keep struggling robotaxi company afloat\\r\\nGM pumps $850 million in Cruise to keep struggling robotaxi company afloat\\r\\n / The company is expanding its manual testing … [+3224 chars]'}, {'source': {'id': 'the-verge', 'name': 'The Verge'}, 'author': 'Abigail Bassett', 'title': 'Ionna, the EV charging company backed by seven automakers, is beginning to take shape', 'description': 'Ionna is a joint venture between seven automakers aimed at solving the problems with EV charging in the US. The company is starting to build out its first stations.', 'url': 'https://www.theverge.com/24176160/ionna-ev-charging-dc-fast-headquarters-network', 'urlToImage': 'https://cdn.vox-cdn.com/thumbor/gnGyG7HqrGgCER_avSpwkIQTRJQ=/0x0:2040x1360/1200x628/filters:focal(1020x680:1021x681)/cdn.vox-cdn.com/uploads/chorus_asset/file/24533944/STK437_Electric_Vehicle_charge_EV.jpg', 'publishedAt': '2024-06-11T16:30:00Z', 'content': 'Ionna, the EV charging company backed by seven automakers, is beginning to take shape\\r\\nIonna, the EV charging company backed by seven automakers, is beginning to take shape\\r\\n / Ionna is a joint ventu… [+5828 chars]'}, {'source': {'id': 'techcrunch', 'name': 'TechCrunch'}, 'author': 'Sarah Perez', 'title': 'AI news reader Particle adds publishing partners and $10.9M in new funding', 'description': 'Particle announced it has partnered with news organization Reuters to collaborate on new business models and experiments in monetization.\\n© 2024 TechCrunch. All rights reserved. For personal use only.', 'url': 'https://techcrunch.com/2024/06/11/ai-news-reader-particle-adds-publishing-partners-and-10-9m-in-new-funding/', 'urlToImage': 'https://techcrunch.com/wp-content/uploads/2024/06/3_2.png?resize=1200,900', 'publishedAt': '2024-06-11T13:00:00Z', 'content': 'Traffic is down, newsrooms are undergoing layoffs, and publishers fear that AI technologies will only make matters worse. Entering the fray, news reader startup Particle is teaming up with publishers… [+5868 chars]'}, {'source': {'id': 'the-verge', 'name': 'The Verge'}, 'author': 'Richard Lawler', 'title': 'WWDC 2024: iOS 18 with AI, macOS 15, and more', 'description': 'Get all the news from Apple’s WWDC 2024 keynote event starting June 10th at 1PM ET. New AI features in iOS 18, iPadOS 18, macOS 15, visionOS 2, and more are coming.', 'url': 'https://www.theverge.com/2024/6/10/24171999/apple-wwdc-2024-news-rumors-announcements-ios-18-ai', 'urlToImage': 'https://cdn.vox-cdn.com/thumbor/N_bSg5ea76E_5Vf5y-zna0rxUR8=/0x0:2040x1334/1200x628/filters:focal(1020x667:1021x668)/cdn.vox-cdn.com/uploads/chorus_asset/file/25356894/STK469_WWDC_2024_D.jpg', 'publishedAt': '2024-06-10T16:00:00Z', 'content': 'At WWDC 2024, Apple is expected to show off new AI features for the iPhone, iPad, and more. Its Apples chance to show that it can keep pace with Googles Gemini and Microsofts Copilot products, and we… [+7299 chars]'}, {'source': {'id': 'the-verge', 'name': 'The Verge'}, 'author': 'Wes Davis', 'title': 'Apple’s next nebulous idea: smart home robots', 'description': 'Apple’s AI tools could also be a step toward building new smart home robots, but solving problems like stairs, and paperclips, could confound even the smartest AI bot.', 'url': 'https://www.theverge.com/2024/6/9/24174800/apple-intelligence-ai-smart-home-robot-rumors', 'urlToImage': 'https://cdn.vox-cdn.com/thumbor/RfxvKr-E6JcF_dJ3wcmLF177Jr4=/0x0:2040x1360/1200x628/filters:focal(1020x680:1021x681)/cdn.vox-cdn.com/uploads/chorus_asset/file/25484054/STK469_WWDC_2_2024_E.jpg', 'publishedAt': '2024-06-09T18:56:13Z', 'content': 'Apples next nebulous idea: smart home robots\\r\\nApples next nebulous idea: smart home robots\\r\\n / Apples next big project could be harder than building a car making a smart AI robot that can figure out … [+6591 chars]'}, {'source': {'id': 'the-verge', 'name': 'The Verge'}, 'author': 'Emma Roth', 'title': 'YouTuber arrested on federal charges for his Lamborghini helicopter firework stunt', 'description': 'YouTuber Alex Choi faces federal charges after posting a video involving two women shooting fireworks out of a helicopter at a Lamborghini.', 'url': 'https://www.theverge.com/2024/6/7/24173845/youtube-alex-choi-arrested-lamborghini-helicopter-fireworks-federal-charges', 'urlToImage': 'https://cdn.vox-cdn.com/thumbor/nbYv2UQaupVzPQb7MqVNVfWnyC0=/0x0:2256x1216/1200x628/filters:focal(1768x815:1769x816)/cdn.vox-cdn.com/uploads/chorus_asset/file/25482166/alex_choi_fireworks_video.png', 'publishedAt': '2024-06-07T21:01:16Z', 'content': 'YouTuber arrested on federal charges for his Lamborghini helicopter firework stunt\\r\\nYouTuber arrested on federal charges for his Lamborghini helicopter firework stunt\\r\\n / Alex Choi is accused of brea… [+1855 chars]'}, {'source': {'id': 'the-verge', 'name': 'The Verge'}, 'author': 'Andrew J. Hawkins', 'title': 'Tesla CEO Elon Musk could leave if $56 billion pay package not approved, shareholders warned', 'description': 'Tesla board chair Robyn Denholm is warning shareholders that Elon Musk may leave the company if they don’t vote to approve his massive $56 billion pay package.', 'url': 'https://www.theverge.com/2024/6/6/24173064/tesla-board-chair-warn-elon-musk-leave-pay-shareholders', 'urlToImage': 'https://cdn.vox-cdn.com/thumbor/W8XrWlMi_AmIzBiT46RzGlnxrho=/0x0:2040x1334/1200x628/filters:focal(1020x667:1021x668)/cdn.vox-cdn.com/uploads/chorus_asset/file/25355897/STK022_ELON_MUSK_CVIRGINIA_D.jpg', 'publishedAt': '2024-06-06T18:41:33Z', 'content': 'Tesla CEO Elon Musk could leave if $56 billion pay package not approved, shareholders warned\\r\\nTesla CEO Elon Musk could leave if $56 billion pay package not approved, shareholders warned\\r\\n / This is … [+3806 chars]'}]}\n"
     ]
    }
   ],
   "source": [
    "from newsapi import NewsApiClient\n",
    "import os\n",
    "\n",
    "# Init\n",
    "import dotenv\n",
    "\n",
    "# Load the .env file\n",
    "dotenv.load_dotenv()\n",
    "\n",
    "# Get the value of the MY_KEY environment variable\n",
    "key = os.environ['NEWS_API-KEY']\n",
    "newsapi = NewsApiClient(api_key=key)\n",
    "\n",
    "# /v2/everything\n",
    "all_articles = newsapi.get_everything(q=stock_name,\n",
    "                                      sources='bbc-news,the-verge',\n",
    "                                      domains='bbc.co.uk,techcrunch.com',\n",
    "                                      language='en',\n",
    "                                      sort_by='publishedAt',\n",
    "                                      page=1,\n",
    "                                      page_size=10)\n",
    "\n",
    "print(all_articles)"
   ]
  },
  {
   "cell_type": "code",
   "execution_count": 19,
   "id": "982ab620",
   "metadata": {},
   "outputs": [],
   "source": [
    "#Text Splitting the articles into chunks \n",
    "\n",
    "# from langchain.text_splitter import CharacterTextSplitter\n",
    "\n",
    "# splitter = CharacterTextSplitter(\n",
    "#     separator = \"\\n\",\n",
    "#     chunk_size=200,\n",
    "#     chunk_overlap=0\n",
    "# )\n",
    "\n",
    "from langchain.text_splitter import RecursiveCharacterTextSplitter\n",
    "\n",
    "r_splitter = RecursiveCharacterTextSplitter(\n",
    "    separators = [\"\\n\\n\", \"\\n\", \" \"],  # List of separators based on requirement (defaults to [\"\\n\\n\", \"\\n\", \" \"])\n",
    "    chunk_size = 500,  # size of each chunk created\n",
    "    chunk_overlap  = 100,  # size of  overlap between chunks in order to maintain the context\n",
    "    length_function = len  # Function to calculate size, currently we are using \"len\" which denotes length of string however you can pass any token counter)\n",
    ")\n",
    "\n",
    "# Convert the 'all_articles' dictionary to a string\n",
    "articles_text = str(all_articles)\n",
    "\n",
    "# chunks = splitter.split_text(articles_text)\n",
    "\n",
    "chunks = r_splitter.split_text(articles_text)\n"
   ]
  },
  {
   "cell_type": "code",
   "execution_count": 20,
   "id": "b4ef7537",
   "metadata": {},
   "outputs": [
    {
     "data": {
      "text/plain": [
       "[\"{'status': 'ok', 'totalResults': 39, 'articles': [{'source': {'id': 'the-verge', 'name': 'The Verge'}, 'author': 'Andrew J. Hawkins', 'title': 'Tesla’s $50 billion question comes down to the wire', 'description': 'Tesla’s annual shareholder vote will be a referendum on Elon Musk’s tumultuous leadership, with investors asked to approved his massive $50 billion pay package again. What they decide may determine the future of the company.', 'url':\",\n",
       " \"$50 billion pay package again. What they decide may determine the future of the company.', 'url': 'https://www.theverge.com/2024/6/12/24177128/tesla-elon-musk-pay-package-shareholder-vote', 'urlToImage': 'https://cdn.vox-cdn.com/thumbor/ziDoEoQGk8yzMiqcVboqC9h4Ds4=/0x0:2040x1360/1200x628/filters:focal(1020x680:1021x681)/cdn.vox-cdn.com/uploads/chorus_asset/file/24083661/STK171_L_Allen_Musk_01.jpg', 'publishedAt': '2024-06-12T18:51:08Z', 'content': 'Teslas $50 billion question comes down to the\",\n",
       " '\\'publishedAt\\': \\'2024-06-12T18:51:08Z\\', \\'content\\': \\'Teslas $50 billion question comes down to the wire\\\\r\\\\nTeslas $50 billion question comes down to the wire\\\\r\\\\n / The companys shareholders will vote on whether to approve Musks giant compensation package f… [+7370 chars]\\'}, {\\'source\\': {\\'id\\': \\'bbc-news\\', \\'name\\': \\'BBC News\\'}, \\'author\\': \\'Natalie Sherman\\', \\'title\\': \"Tesla pay fight tests power of Elon Musk\\'s mystique\", \\'description\\': \\'Elon Musk wants the biggest pay package in history, but will',\n",
       " 'Elon Musk\\'s mystique\", \\'description\\': \\'Elon Musk wants the biggest pay package in history, but will investors back the $50bn deal?\\', \\'url\\': \\'https://www.bbc.co.uk/news/articles/crggk5rvqd1o\\', \\'urlToImage\\': \\'https://ichef.bbci.co.uk/news/1024/branded_news/9a51/live/d5826dd0-280f-11ef-9c0d-75e67bf8294a.jpg\\', \\'publishedAt\\': \\'2024-06-12T08:05:43Z\\', \\'content\\': \"If this was back in 2018, I would have voted yes, but today, after everything that has happened, I voted no, says investor Ven Kolli, an IT',\n",
       " 'yes, but today, after everything that has happened, I voted no, says investor Ven Kolli, an IT consultant from Colorado, who owns one of the company\\'s car… [+1220 chars]\"}, {\\'source\\': {\\'id\\': \\'the-verge\\', \\'name\\': \\'The Verge\\'}, \\'author\\': \\'Emma Roth\\', \\'title\\': \\'Elon Musk drops lawsuit against OpenAI\\', \\'description\\': \\'Elon Musk was suing ChatGPT maker OpenAI and its CEO, Sam Altman, for a breach of contract, but now the lawsuit has been dropped.\\', \\'url\\':',\n",
       " \"and its CEO, Sam Altman, for a breach of contract, but now the lawsuit has been dropped.', 'url': 'https://www.theverge.com/2024/6/11/24176462/elon-musk-openai-lawsuit-sam-altman-dropped', 'urlToImage': 'https://cdn.vox-cdn.com/thumbor/qhhAPf5iS_vHpweTtvPiRoNc2hg=/0x0:2040x1360/1200x628/filters:focal(1020x680:1021x681)/cdn.vox-cdn.com/uploads/chorus_asset/file/23906796/VRG_Illo_STK022_K_Radtke_Musk_Scales_2.jpg', 'publishedAt': '2024-06-11T21:29:42Z', 'content': 'Elon Musk drops lawsuit against\",\n",
       " \"'publishedAt': '2024-06-11T21:29:42Z', 'content': 'Elon Musk drops lawsuit against OpenAI\\\\r\\\\nElon Musk drops lawsuit against OpenAI\\\\r\\\\n / Elon Musk, a co-founder of OpenAI, has dropped his breach of contract lawsuit against the company. \\\\r\\\\nByEmma Roth, a … [+1737 chars]'}, {'source': {'id': 'the-verge', 'name': 'The Verge'}, 'author': 'Andrew J. Hawkins', 'title': 'GM pumps $850 million in Cruise to keep struggling robotaxi company afloat', 'description': 'GM is investing $850 million into\",\n",
       " \"to keep struggling robotaxi company afloat', 'description': 'GM is investing $850 million into Cruise to help the struggling robotaxi company cover its operational costs. The company shut down operations after a pedestrian was struck by a driverless car.', 'url': 'https://www.theverge.com/2024/6/11/24176206/gm-cruise-invest-850-million-operational-cost-houston', 'urlToImage':\",\n",
       " \"'urlToImage': 'https://cdn.vox-cdn.com/thumbor/jgVatyJ7WfskT-_8zDwpDAOH7p0=/0x0:3840x2160/1200x628/filters:focal(1920x1080:1921x1081)/cdn.vox-cdn.com/uploads/chorus_asset/file/25486758/Cruise_Houston.jpg', 'publishedAt': '2024-06-11T17:36:57Z', 'content': 'GM pumps $850 million in Cruise to keep struggling robotaxi company afloat\\\\r\\\\nGM pumps $850 million in Cruise to keep struggling robotaxi company afloat\\\\r\\\\n / The company is expanding its manual testing … [+3224 chars]'}, {'source': {'id':\",\n",
       " \"afloat\\\\r\\\\n / The company is expanding its manual testing … [+3224 chars]'}, {'source': {'id': 'the-verge', 'name': 'The Verge'}, 'author': 'Abigail Bassett', 'title': 'Ionna, the EV charging company backed by seven automakers, is beginning to take shape', 'description': 'Ionna is a joint venture between seven automakers aimed at solving the problems with EV charging in the US. The company is starting to build out its first stations.', 'url':\",\n",
       " \"with EV charging in the US. The company is starting to build out its first stations.', 'url': 'https://www.theverge.com/24176160/ionna-ev-charging-dc-fast-headquarters-network', 'urlToImage': 'https://cdn.vox-cdn.com/thumbor/gnGyG7HqrGgCER_avSpwkIQTRJQ=/0x0:2040x1360/1200x628/filters:focal(1020x680:1021x681)/cdn.vox-cdn.com/uploads/chorus_asset/file/24533944/STK437_Electric_Vehicle_charge_EV.jpg', 'publishedAt': '2024-06-11T16:30:00Z', 'content': 'Ionna, the EV charging company backed by seven\",\n",
       " \"'publishedAt': '2024-06-11T16:30:00Z', 'content': 'Ionna, the EV charging company backed by seven automakers, is beginning to take shape\\\\r\\\\nIonna, the EV charging company backed by seven automakers, is beginning to take shape\\\\r\\\\n / Ionna is a joint ventu… [+5828 chars]'}, {'source': {'id': 'techcrunch', 'name': 'TechCrunch'}, 'author': 'Sarah Perez', 'title': 'AI news reader Particle adds publishing partners and $10.9M in new funding', 'description': 'Particle announced it has partnered with\",\n",
       " \"partners and $10.9M in new funding', 'description': 'Particle announced it has partnered with news organization Reuters to collaborate on new business models and experiments in monetization.\\\\n© 2024 TechCrunch. All rights reserved. For personal use only.', 'url': 'https://techcrunch.com/2024/06/11/ai-news-reader-particle-adds-publishing-partners-and-10-9m-in-new-funding/', 'urlToImage': 'https://techcrunch.com/wp-content/uploads/2024/06/3_2.png?resize=1200,900', 'publishedAt':\",\n",
       " \"'https://techcrunch.com/wp-content/uploads/2024/06/3_2.png?resize=1200,900', 'publishedAt': '2024-06-11T13:00:00Z', 'content': 'Traffic is down, newsrooms are undergoing layoffs, and publishers fear that AI technologies will only make matters worse. Entering the fray, news reader startup Particle is teaming up with publishers… [+5868 chars]'}, {'source': {'id': 'the-verge', 'name': 'The Verge'}, 'author': 'Richard Lawler', 'title': 'WWDC 2024: iOS 18 with AI, macOS 15, and more', 'description':\",\n",
       " \"'Richard Lawler', 'title': 'WWDC 2024: iOS 18 with AI, macOS 15, and more', 'description': 'Get all the news from Apple’s WWDC 2024 keynote event starting June 10th at 1PM ET. New AI features in iOS 18, iPadOS 18, macOS 15, visionOS 2, and more are coming.', 'url': 'https://www.theverge.com/2024/6/10/24171999/apple-wwdc-2024-news-rumors-announcements-ios-18-ai', 'urlToImage':\",\n",
       " \"'urlToImage': 'https://cdn.vox-cdn.com/thumbor/N_bSg5ea76E_5Vf5y-zna0rxUR8=/0x0:2040x1334/1200x628/filters:focal(1020x667:1021x668)/cdn.vox-cdn.com/uploads/chorus_asset/file/25356894/STK469_WWDC_2024_D.jpg', 'publishedAt': '2024-06-10T16:00:00Z', 'content': 'At WWDC 2024, Apple is expected to show off new AI features for the iPhone, iPad, and more. Its Apples chance to show that it can keep pace with Googles Gemini and Microsofts Copilot products, and we… [+7299 chars]'}, {'source': {'id':\",\n",
       " \"with Googles Gemini and Microsofts Copilot products, and we… [+7299 chars]'}, {'source': {'id': 'the-verge', 'name': 'The Verge'}, 'author': 'Wes Davis', 'title': 'Apple’s next nebulous idea: smart home robots', 'description': 'Apple’s AI tools could also be a step toward building new smart home robots, but solving problems like stairs, and paperclips, could confound even the smartest AI bot.', 'url': 'https://www.theverge.com/2024/6/9/24174800/apple-intelligence-ai-smart-home-robot-rumors',\",\n",
       " \"'url': 'https://www.theverge.com/2024/6/9/24174800/apple-intelligence-ai-smart-home-robot-rumors', 'urlToImage': 'https://cdn.vox-cdn.com/thumbor/RfxvKr-E6JcF_dJ3wcmLF177Jr4=/0x0:2040x1360/1200x628/filters:focal(1020x680:1021x681)/cdn.vox-cdn.com/uploads/chorus_asset/file/25484054/STK469_WWDC_2_2024_E.jpg', 'publishedAt': '2024-06-09T18:56:13Z', 'content': 'Apples next nebulous idea: smart home robots\\\\r\\\\nApples next nebulous idea: smart home robots\\\\r\\\\n / Apples next big project could be harder\",\n",
       " \"next nebulous idea: smart home robots\\\\r\\\\n / Apples next big project could be harder than building a car making a smart AI robot that can figure out … [+6591 chars]'}, {'source': {'id': 'the-verge', 'name': 'The Verge'}, 'author': 'Emma Roth', 'title': 'YouTuber arrested on federal charges for his Lamborghini helicopter firework stunt', 'description': 'YouTuber Alex Choi faces federal charges after posting a video involving two women shooting fireworks out of a helicopter at a Lamborghini.',\",\n",
       " \"posting a video involving two women shooting fireworks out of a helicopter at a Lamborghini.', 'url': 'https://www.theverge.com/2024/6/7/24173845/youtube-alex-choi-arrested-lamborghini-helicopter-fireworks-federal-charges', 'urlToImage': 'https://cdn.vox-cdn.com/thumbor/nbYv2UQaupVzPQb7MqVNVfWnyC0=/0x0:2256x1216/1200x628/filters:focal(1768x815:1769x816)/cdn.vox-cdn.com/uploads/chorus_asset/file/25482166/alex_choi_fireworks_video.png', 'publishedAt': '2024-06-07T21:01:16Z', 'content': 'YouTuber\",\n",
       " \"'publishedAt': '2024-06-07T21:01:16Z', 'content': 'YouTuber arrested on federal charges for his Lamborghini helicopter firework stunt\\\\r\\\\nYouTuber arrested on federal charges for his Lamborghini helicopter firework stunt\\\\r\\\\n / Alex Choi is accused of brea… [+1855 chars]'}, {'source': {'id': 'the-verge', 'name': 'The Verge'}, 'author': 'Andrew J. Hawkins', 'title': 'Tesla CEO Elon Musk could leave if $56 billion pay package not approved, shareholders warned', 'description': 'Tesla board chair\",\n",
       " \"if $56 billion pay package not approved, shareholders warned', 'description': 'Tesla board chair Robyn Denholm is warning shareholders that Elon Musk may leave the company if they don’t vote to approve his massive $56 billion pay package.', 'url': 'https://www.theverge.com/2024/6/6/24173064/tesla-board-chair-warn-elon-musk-leave-pay-shareholders', 'urlToImage':\",\n",
       " \"'urlToImage': 'https://cdn.vox-cdn.com/thumbor/W8XrWlMi_AmIzBiT46RzGlnxrho=/0x0:2040x1334/1200x628/filters:focal(1020x667:1021x668)/cdn.vox-cdn.com/uploads/chorus_asset/file/25355897/STK022_ELON_MUSK_CVIRGINIA_D.jpg', 'publishedAt': '2024-06-06T18:41:33Z', 'content': 'Tesla CEO Elon Musk could leave if $56 billion pay package not approved, shareholders warned\\\\r\\\\nTesla CEO Elon Musk could leave if $56 billion pay package not approved, shareholders warned\\\\r\\\\n / This is … [+3806 chars]'}]}\"]"
      ]
     },
     "execution_count": 20,
     "metadata": {},
     "output_type": "execute_result"
    }
   ],
   "source": [
    "chunks"
   ]
  },
  {
   "cell_type": "code",
   "execution_count": 21,
   "id": "d88b5337",
   "metadata": {},
   "outputs": [
    {
     "data": {
      "text/plain": [
       "23"
      ]
     },
     "execution_count": 21,
     "metadata": {},
     "output_type": "execute_result"
    }
   ],
   "source": [
    "len(chunks)"
   ]
  },
  {
   "cell_type": "code",
   "execution_count": null,
   "id": "b6d207b1",
   "metadata": {},
   "outputs": [],
   "source": [
    "# Create Embedding using Open AI embeddings / HuggingFace embeddings\n",
    "\n",
    "\n",
    "\n"
   ]
  }
 ],
 "metadata": {
  "kernelspec": {
   "display_name": "Python 3 (ipykernel)",
   "language": "python",
   "name": "python3"
  },
  "language_info": {
   "codemirror_mode": {
    "name": "ipython",
    "version": 3
   },
   "file_extension": ".py",
   "mimetype": "text/x-python",
   "name": "python",
   "nbconvert_exporter": "python",
   "pygments_lexer": "ipython3",
   "version": "3.11.9"
  }
 },
 "nbformat": 4,
 "nbformat_minor": 5
}
