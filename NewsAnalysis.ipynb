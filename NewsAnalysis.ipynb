{
 "cells": [
  {
   "cell_type": "code",
   "execution_count": 25,
   "id": "6438a58c-52c9-4c02-b40d-481153e95e4e",
   "metadata": {},
   "outputs": [],
   "source": [
    "from langchain.document_loaders import TextLoader"
   ]
  },
  {
   "cell_type": "code",
   "execution_count": 16,
   "id": "e0841daa",
   "metadata": {},
   "outputs": [],
   "source": [
    "stock_name = input(\"Enter the stock name: \")"
   ]
  },
  {
   "cell_type": "code",
   "execution_count": 10,
   "id": "765d16ef",
   "metadata": {},
   "outputs": [
    {
     "name": "stdout",
     "output_type": "stream",
     "text": [
      "Collecting newsapi-python\n",
      "  Downloading newsapi_python-0.2.7-py2.py3-none-any.whl.metadata (1.2 kB)\n",
      "Requirement already satisfied: requests<3.0.0 in c:\\users\\omkar\\appdata\\local\\packages\\pythonsoftwarefoundation.python.3.11_qbz5n2kfra8p0\\localcache\\local-packages\\python311\\site-packages (from newsapi-python) (2.32.3)\n",
      "Requirement already satisfied: charset-normalizer<4,>=2 in c:\\users\\omkar\\appdata\\local\\packages\\pythonsoftwarefoundation.python.3.11_qbz5n2kfra8p0\\localcache\\local-packages\\python311\\site-packages (from requests<3.0.0->newsapi-python) (3.3.2)\n",
      "Requirement already satisfied: idna<4,>=2.5 in c:\\users\\omkar\\appdata\\local\\packages\\pythonsoftwarefoundation.python.3.11_qbz5n2kfra8p0\\localcache\\local-packages\\python311\\site-packages (from requests<3.0.0->newsapi-python) (3.7)\n",
      "Requirement already satisfied: urllib3<3,>=1.21.1 in c:\\users\\omkar\\appdata\\local\\packages\\pythonsoftwarefoundation.python.3.11_qbz5n2kfra8p0\\localcache\\local-packages\\python311\\site-packages (from requests<3.0.0->newsapi-python) (2.2.1)\n",
      "Requirement already satisfied: certifi>=2017.4.17 in c:\\users\\omkar\\appdata\\local\\packages\\pythonsoftwarefoundation.python.3.11_qbz5n2kfra8p0\\localcache\\local-packages\\python311\\site-packages (from requests<3.0.0->newsapi-python) (2024.6.2)\n",
      "Downloading newsapi_python-0.2.7-py2.py3-none-any.whl (7.9 kB)\n",
      "Installing collected packages: newsapi-python\n",
      "Successfully installed newsapi-python-0.2.7\n",
      "Note: you may need to restart the kernel to use updated packages.\n"
     ]
    }
   ],
   "source": [
    "pip install newsapi-python"
   ]
  },
  {
   "cell_type": "code",
   "execution_count": 19,
   "id": "ff0e8f1c",
   "metadata": {},
   "outputs": [
    {
     "name": "stdout",
     "output_type": "stream",
     "text": [
      "Collecting python-dotenvNote: you may need to restart the kernel to use updated packages.\n",
      "\n",
      "  Downloading python_dotenv-1.0.1-py3-none-any.whl.metadata (23 kB)\n",
      "Downloading python_dotenv-1.0.1-py3-none-any.whl (19 kB)\n",
      "Installing collected packages: python-dotenv\n",
      "Successfully installed python-dotenv-1.0.1\n"
     ]
    }
   ],
   "source": [
    "pip install python-dotenv"
   ]
  },
  {
   "cell_type": "code",
   "execution_count": 24,
   "id": "863d1ae7",
   "metadata": {},
   "outputs": [
    {
     "name": "stdout",
     "output_type": "stream",
     "text": [
      "{'status': 'ok', 'totalResults': 255, 'articles': [{'source': {'id': 'techcrunch', 'name': 'TechCrunch'}, 'author': 'Ivan Mehta', 'title': 'The apps that Apple Sherlocked at WWDC', 'description': \"Here's a list of third-party apps that were Sherlocked by Apple at this year's WWDC. \\n© 2024 TechCrunch. All rights reserved. For personal use only.\", 'url': 'https://techcrunch.com/2024/06/12/the-apps-that-apple-sherlocked-at-wwdc/', 'urlToImage': 'https://techcrunch.com/wp-content/uploads/2024/06/Tim-Cook-Apple-WWDC.png?resize=1200,678', 'publishedAt': '2024-06-12T08:16:42Z', 'content': 'Apple has been on a spree of late, announcing a host of new features for its various devices earlier this week at its Worldwide Developer Conference (WWDC).\\r\\nBut a lot of those features were already … [+5308 chars]'}, {'source': {'id': 'techcrunch', 'name': 'TechCrunch'}, 'author': 'Paul Sawers', 'title': 'Let there be Light! Danish startup exits stealth with $13M seed funding to bring AI to general ledgers', 'description': 'It’s not the sexiest of subject matters, but someone needs to talk about it: The CFO tech stack — software used by the chief financial officers of the world — is ripe for disruption. That’s according to Jonathan Sanders, CEO and co-founder of fledgling Danish…', 'url': 'https://techcrunch.com/2024/06/12/let-there-be-light-danish-startup-exits-stealth-with-13m-seed-funding-to-bring-ai-to-general-ledgers/', 'urlToImage': 'https://techcrunch.com/wp-content/uploads/2024/06/Light-co-founder-Filip-Kozjak-CTO-and-Jonathan-Sanders-CEO-2JPG-dime.jpg?resize=874,1200', 'publishedAt': '2024-06-12T07:00:00Z', 'content': 'It’s not the sexiest of subject matters, but someone needs to talk about it: The CFO tech stack software used by the chief financial officers of the world is ripe for disruption. That’s according to … [+6740 chars]'}, {'source': {'id': 'techcrunch', 'name': 'TechCrunch'}, 'author': 'Aisha Malik', 'title': \"FTC Chair Lina Khan says the agency is going after the 'mob bosses' in Big Tech | TechCrunch\", 'description': 'The U.S. Federal Trade Commission is focusing its efforts on going after the big guys in Big Tech, according to FTC Chair Lina Khan.', 'url': 'https://techcrunch.com/2024/06/11/ftc-chair-lina-khan-says-the-agency-is-going-after-the-mob-bosses-in-big-tech/', 'urlToImage': 'https://techcrunch.com/wp-content/uploads/2023/03/lina-khan-image.jpg?resize=1200,795', 'publishedAt': '2024-06-12T00:06:24Z', 'content': 'The U.S. Federal Trade Commission is focusing its efforts on going after Big Tech, according to FTC Chair Lina Khan, who spoke at TechCrunchs Strictly VC event in Washington, D.C., on Tuesday.\\xa0\\r\\nKhan… [+2605 chars]'}, {'source': {'id': 'techcrunch', 'name': 'TechCrunch'}, 'author': 'Brian Heater', 'title': 'Apple Watch is finally adding a feature I’ve been requesting for years', 'description': 'The ability to pause your activity rings is a minor feature update for most, but for those of us who obsess about such things to an unhealthy degree, it’s the best Apple Watch update in years.\\n© 2024 TechCrunch. All rights reserved. For personal use only.', 'url': 'https://techcrunch.com/2024/06/11/apple-watch-is-finally-adding-a-feature-ive-been-requesting-for-years/', 'urlToImage': 'https://techcrunch.com/wp-content/uploads/2023/06/wwdc-2023-watchos-10-activity.jpg?resize=1200,675', 'publishedAt': '2024-06-11T23:41:17Z', 'content': 'Its always fascinating to see what excites people during keynotes. There are the usual marquee items that make the biggest headlines. This week at WWDC 2024, that prize went to Apple Intelligence. Of… [+1713 chars]'}, {'source': {'id': 'techcrunch', 'name': 'TechCrunch'}, 'author': 'Brian Heater', 'title': 'Why Apple is taking a small model approach to generative AI', 'description': 'It’s a very Apple approach in the sense that it prioritizes a frictionless user experience above all.\\n© 2024 TechCrunch. All rights reserved. For personal use only.', 'url': 'https://techcrunch.com/2024/06/11/why-apple-is-taking-a-small-model-approach-to-generative-ai/', 'urlToImage': 'https://techcrunch.com/wp-content/uploads/2024/06/WWDC-2024-Apple-Intelligence-iPhone-Limits.jpg?resize=1200,675', 'publishedAt': '2024-06-11T22:51:14Z', 'content': 'Among the biggest questions surrounding models like ChatGPT, Gemini and Midjourney since launch is what role (if any) theyll play in our daily lives. Its something Apple is striving to answer with it… [+9322 chars]'}, {'source': {'id': 'the-verge', 'name': 'The Verge'}, 'author': 'Emma Roth', 'title': 'Elon Musk drops lawsuit against OpenAI', 'description': 'Elon Musk was suing ChatGPT maker OpenAI and its CEO, Sam Altman, for a breach of contract, but now the lawsuit has been dropped.', 'url': 'https://www.theverge.com/2024/6/11/24176462/elon-musk-openai-lawsuit-sam-altman-dropped', 'urlToImage': 'https://cdn.vox-cdn.com/thumbor/qhhAPf5iS_vHpweTtvPiRoNc2hg=/0x0:2040x1360/1200x628/filters:focal(1020x680:1021x681)/cdn.vox-cdn.com/uploads/chorus_asset/file/23906796/VRG_Illo_STK022_K_Radtke_Musk_Scales_2.jpg', 'publishedAt': '2024-06-11T21:29:42Z', 'content': 'Elon Musk drops lawsuit against OpenAI\\r\\nElon Musk drops lawsuit against OpenAI\\r\\n / Elon Musk, a co-founder of OpenAI, has dropped his breach of contract lawsuit against the company. \\r\\nByEmma Roth, a … [+1737 chars]'}, {'source': {'id': 'the-verge', 'name': 'The Verge'}, 'author': 'Quentyn Kennemer', 'title': 'The 13-inch M3 MacBook Air is down to an all-time low of $899', 'description': 'Amazon and B&H are both offering a hefty $200 off Apple’s flagship laptop for a limited time, dropping the M3 MacBook Air to $899 in all four colors.', 'url': 'https://www.theverge.com/2024/6/11/24176173/apple-macbook-air-m3-laptop-2024-deal-sale', 'urlToImage': 'https://cdn.vox-cdn.com/thumbor/7G-iuU1ew1x6vdbUOaal3-as9DU=/0x0:3000x2000/1200x628/filters:focal(1500x1000:1501x1001)/cdn.vox-cdn.com/uploads/chorus_asset/file/25356162/DSC_0504.jpg', 'publishedAt': '2024-06-11T21:00:02Z', 'content': 'The 13-inch M3 MacBook Air is down to an all-time low of $899\\r\\nThe 13-inch M3 MacBook Air is down to an all-time low of $899\\r\\n / Thats only $70 more than the current starting price for the M2 Air.\\r\\nB… [+2177 chars]'}, {'source': {'id': 'the-verge', 'name': 'The Verge'}, 'author': 'Sean Hollister', 'title': 'Did startup Flow Computing just make CPUs 100x faster? Here’s the white paper and FAQs', 'description': 'Flow Computing is making a tough to believe claim — it says it can 100x the performance of any CPU by shifting work to a PPU inside or outside the chip.', 'url': 'https://www.theverge.com/2024/6/11/24176304/flow-computing-startup-parallel-processing-accelerator', 'urlToImage': 'https://cdn.vox-cdn.com/thumbor/aFVn-HJy8z6Panpg4Idy_nfT-FE=/0x0:2700x1800/1200x628/filters:focal(1350x900:1351x901)/cdn.vox-cdn.com/uploads/chorus_asset/file/25486982/flow_computing.jpg', 'publishedAt': '2024-06-11T19:37:43Z', 'content': 'Did startup Flow Computing just make CPUs 100x faster? Heres the white paper and FAQs\\r\\nDid startup Flow Computing just make CPUs 100x faster? Heres the white paper and FAQs\\r\\n / The company claims its… [+1926 chars]'}, {'source': {'id': 'the-verge', 'name': 'The Verge'}, 'author': 'Jennifer Pattison Tuohy', 'title': 'SharePlay is coming to Apple TV, HomePods, and Bluetooth speakers', 'description': 'At WWDC 2024, Apple announced it’s expanding SharePlay support to speakers in your home, so you can share control of music playing through Apple Music.', 'url': 'https://www.theverge.com/2024/6/11/24176146/apple-shareplay-homepod-apple-music-wwdc24', 'urlToImage': 'https://cdn.vox-cdn.com/thumbor/QuzDtEoALipdQxjAHTjT4XcNTs0=/0x0:2040x1360/1200x628/filters:focal(1020x680:1021x681)/cdn.vox-cdn.com/uploads/chorus_asset/file/24397293/DSC08262.jpg', 'publishedAt': '2024-06-11T18:00:03Z', 'content': 'SharePlay is coming to Apple TV, HomePods, and Bluetooth speakers\\r\\nSharePlay is coming to Apple TV, HomePods, and Bluetooth speakers\\r\\n / Apple announced its expanding SharePlay to the home, letting y… [+2377 chars]'}, {'source': {'id': 'techcrunch', 'name': 'TechCrunch'}, 'author': 'Sarah Perez', 'title': 'At last, Apple’s Messages app will support RCS and scheduling texts', 'description': 'These messaging features, announced at WWDC 2024, will have a significant impact on how people communicate every day.\\n© 2024 TechCrunch. All rights reserved. For personal use only.', 'url': 'https://techcrunch.com/2024/06/11/at-last-apples-messages-app-will-support-rcs-and-scheduling-texts/', 'urlToImage': 'https://techcrunch.com/wp-content/uploads/2024/06/scheduled-send.png?resize=1200,826', 'publishedAt': '2024-06-11T17:57:00Z', 'content': 'The biggest updates coming to Apple’s iMessage and its Messages app in iOS 18 aren’t its AI emoji, Genmoji, or even the ability to send texts via satellite. It’s the ability to finally, finally sched… [+3583 chars]'}, {'source': {'id': 'the-verge', 'name': 'The Verge'}, 'author': 'Antonio G. Di Benedetto', 'title': 'The latest Backbone One smartphone gamepad is $20 off for Father’s Day', 'description': 'Backbone’s latest version of its excellent smartphone game controller is on sale for $79.99. Plus, you can save on Nintendo Switch games and a boomy Bluetooth speaker.', 'url': 'https://www.theverge.com/2024/6/11/24175498/backbone-one-smartphone-iphone-android-game-controller-deal-sale', 'urlToImage': 'https://cdn.vox-cdn.com/thumbor/U-nQ9GEYqXdAqTiarNvoUoTwYe4=/0x0:2040x1360/1200x628/filters:focal(1020x680:1021x681)/cdn.vox-cdn.com/uploads/chorus_asset/file/21989937/cfaulkner_201016_4242_0009.0.jpg', 'publishedAt': '2024-06-11T16:37:50Z', 'content': 'The latest Backbone One smartphone gamepad is $20 off for Fathers Day\\r\\nThe latest Backbone One smartphone gamepad is $20 off for Fathers Day\\r\\n / One of the best phone controllers around is at its sec… [+3263 chars]'}, {'source': {'id': 'the-verge', 'name': 'The Verge'}, 'author': 'Justine Calma', 'title': 'Apple’s new custom emoji come with climate costs', 'description': 'Apple announced a slew of new energy-hungry AI features, but generating custom emoji and images could come with high climate costs.', 'url': 'https://www.theverge.com/24176049/apple-ai-emoji-image-generation-climate-change', 'urlToImage': 'https://cdn.vox-cdn.com/thumbor/EyM9XkoyTkrjlVxzlS06kbpmcRA=/0x0:2524x1400/1200x628/filters:focal(1262x700:1263x701)/cdn.vox-cdn.com/uploads/chorus_asset/file/25486697/Screenshot_2024_06_11_at_11.38.49_AM.png', 'publishedAt': '2024-06-11T16:22:11Z', 'content': 'Apples new custom emoji come with climate costs\\r\\nApples new custom emoji come with climate costs\\r\\n / Generating custom images with AI burns through a lot of energy.\\r\\nSoon, youll be able to create you… [+2637 chars]'}, {'source': {'id': 'the-verge', 'name': 'The Verge'}, 'author': 'Victoria Song', 'title': 'The Pixel Watch 2 can now detect when you’ve been in a car crash', 'description': 'Google is updating the Pixel Watch lineup’s safety features, with car crash detection for the Pixel Watch 2 and improved fall detection for bikes on both watches.', 'url': 'https://www.theverge.com/2024/6/11/24176081/google-pixel-watch-crash-fall-detection-paypal-smartwatch-wearables', 'urlToImage': 'https://cdn.vox-cdn.com/thumbor/oFQvx6nn40ob5Px56D4p31VH0mM=/0x0:2040x1360/1200x628/filters:focal(1020x680:1021x681)/cdn.vox-cdn.com/uploads/chorus_asset/file/24992630/236828_Pixel_Watch_2_AKrales_0830.jpg', 'publishedAt': '2024-06-11T16:00:00Z', 'content': 'The Pixel Watch 2 can now detect when youve been in a car crash\\r\\nThe Pixel Watch 2 can now detect when youve been in a car crash\\r\\n / Improved fall detection, PayPal in Google Wallet, and the Google H… [+2045 chars]'}, {'source': {'id': 'the-verge', 'name': 'The Verge'}, 'author': 'Richard Lawler', 'title': 'Google’s June Pixel update brings Gemini AI to cheaper phones', 'description': 'Google’s new update for Pixel phones brings expanded access to AI features, more control over which camera lens you’re using, and Find My Device when your phone is off.', 'url': 'https://www.theverge.com/2024/6/11/24176127/google-pixel-feature-drop-june-gemini-nano', 'urlToImage': 'https://cdn.vox-cdn.com/thumbor/yJbouMmlu1wVrpG7FMbRfrWN9PY=/0x0:2000x1306/1200x628/filters:focal(1000x653:1001x654)/cdn.vox-cdn.com/uploads/chorus_asset/file/24993392/DSC05762.jpg', 'publishedAt': '2024-06-11T16:00:00Z', 'content': 'Googles June Pixel update brings Gemini AI to cheaper phones\\r\\nGoogles June Pixel update brings Gemini AI to cheaper phones\\r\\n / Google Pixel 8 and Pixel 8A owners can use AI-enabled features, too, but… [+2439 chars]'}, {'source': {'id': 'the-verge', 'name': 'The Verge'}, 'author': 'Jay Peters', 'title': 'Apple IDs are becoming Apple Accounts', 'description': 'Apple is rebranding Apple accounts from Apple ID to Apple Account. The change is one of many the company announced during WWDC 2024.', 'url': 'https://www.theverge.com/2024/6/11/24176140/apple-ids-accounts-wwdc-2024', 'urlToImage': 'https://cdn.vox-cdn.com/thumbor/5ctJfP3Z7AlcBki6nfIIJYVNUFg=/0x0:2040x1360/1200x628/filters:focal(1020x680:1021x681)/cdn.vox-cdn.com/uploads/chorus_asset/file/24401977/STK071_ACastro_apple_0001.jpg', 'publishedAt': '2024-06-11T15:46:16Z', 'content': 'Apple IDs are becoming Apple Accounts\\r\\nApple IDs are becoming Apple Accounts\\r\\n / Its a much better name.\\r\\nByJay Peters, a news editor who writes about technology, video games, and virtual worlds. Hes… [+1117 chars]'}]}\n"
     ]
    }
   ],
   "source": [
    "from newsapi import NewsApiClient\n",
    "import os\n",
    "\n",
    "# Init\n",
    "import dotenv\n",
    "\n",
    "# Load the .env file\n",
    "dotenv.load_dotenv()\n",
    "\n",
    "# Get the value of the MY_KEY environment variable\n",
    "key = os.environ['NEWS_API-KEY']\n",
    "newsapi = NewsApiClient(api_key=key)\n",
    "\n",
    "# /v2/everything\n",
    "all_articles = newsapi.get_everything(q=stock_name,\n",
    "                                      sources='bbc-news,the-verge',\n",
    "                                      domains='bbc.co.uk,techcrunch.com',\n",
    "                                      language='en',\n",
    "                                      sort_by='publishedAt',\n",
    "                                      page=1,\n",
    "                                      page_size=15)\n",
    "\n",
    "print(all_articles)"
   ]
  }
 ],
 "metadata": {
  "kernelspec": {
   "display_name": "Python 3 (ipykernel)",
   "language": "python",
   "name": "python3"
  },
  "language_info": {
   "codemirror_mode": {
    "name": "ipython",
    "version": 3
   },
   "file_extension": ".py",
   "mimetype": "text/x-python",
   "name": "python",
   "nbconvert_exporter": "python",
   "pygments_lexer": "ipython3",
   "version": "3.11.9"
  }
 },
 "nbformat": 4,
 "nbformat_minor": 5
}
